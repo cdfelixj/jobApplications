{
 "cells": [
  {
   "cell_type": "markdown",
   "id": "018ac2b8",
   "metadata": {},
   "source": [
    "# Professional Job Application Toolkit\n",
    "\n",
    "A streamlined toolkit for email sending and cover letter generation.\n",
    "\n",
    "## Features\n",
    "- Email sending with your existing email template\n",
    "- Cover letter generation with your existing template  \n",
    "- PDF export functionality\n",
    "- Simple variable input system"
   ]
  },
  {
   "cell_type": "markdown",
   "id": "79fd2f43",
   "metadata": {},
   "source": [
    "## 1. Import Libraries and Configuration"
   ]
  },
  {
   "cell_type": "code",
   "execution_count": 136,
   "id": "042c390f",
   "metadata": {},
   "outputs": [
    {
     "name": "stdout",
     "output_type": "stream",
     "text": [
      "✅ PDF conversion library available\n"
     ]
    }
   ],
   "source": [
    "# Import required libraries\n",
    "import smtplib\n",
    "import ssl\n",
    "from email.mime.text import MIMEText\n",
    "from email.mime.multipart import MIMEMultipart\n",
    "from email.mime.base import MIMEBase\n",
    "from email import encoders\n",
    "import os\n",
    "from datetime import datetime\n",
    "from docx import Document\n",
    "from docx.shared import Inches\n",
    "from docx.enum.text import WD_ALIGN_PARAGRAPH\n",
    "from docx.shared import Pt\n",
    "from docx.oxml.shared import OxmlElement, qn\n",
    "from dotenv import load_dotenv\n",
    "\n",
    "# For PDF conversion\n",
    "try:\n",
    "    from docx2pdf import convert\n",
    "    PDF_CONVERSION_AVAILABLE = True\n",
    "    print(\"✅ PDF conversion library available\")\n",
    "except ImportError:\n",
    "    PDF_CONVERSION_AVAILABLE = False\n",
    "    print(\"⚠️ docx2pdf not available. Install with: pip install docx2pdf\")\n",
    "\n",
    "# Load environment variables from .env file\n",
    "load_dotenv()\n",
    "\n",
    "# Gmail Configuration\n",
    "GMAIL_EMAIL = os.getenv('GMAIL_EMAIL')\n",
    "GMAIL_PASSWORD = os.getenv('GMAIL_PASSWORD')\n",
    "SMTP_SERVER = \"smtp.gmail.com\"\n",
    "SMTP_PORT = 587\n",
    "\n",
    "# Contact Information\n",
    "FULL_NAME = \"Felix Lau Pangestu\"\n",
    "PHONE_NUMBER = os.getenv('PHONE_NUMBER')\n",
    "LINKEDIN_URL = \"linkedin.com/in/jfelixpangestu/\""
   ]
  },
  {
   "cell_type": "markdown",
   "id": "5f8e1009",
   "metadata": {},
   "source": [
    "## 2. Template Functions (From Your LetterMaker.py)"
   ]
  },
  {
   "cell_type": "code",
   "execution_count": 137,
   "id": "6eec5044",
   "metadata": {},
   "outputs": [
    {
     "name": "stdout",
     "output_type": "stream",
     "text": [
      "✅ Template functions loaded successfully!\n"
     ]
    }
   ],
   "source": [
    "def coverLetterBody(company_name, role, industry):\n",
    "    \"\"\"Generate cover letter body content only - all document structure handled by export function\"\"\"\n",
    "    output = f\"\"\"I am writing to express my enthusiastic interest in the {role} position at {company_name}. As a third-year student majoring in Business Computing & Data Analytics at Hong Kong Baptist University, I have developed a robust foundation in both software development and finance, and I am eager to leverage these skills within {company_name}'s dynamic environment. Your commitment to innovation and leadership in the {industry} industry is particularly inspiring, and I am drawn to your dedication to using technology to drive financial solutions. The opportunity to work with your extensive resources and industry expertise aligns perfectly with my passion.\n",
    "\n",
    "My recent experience as a Software Engineer Intern at Wizpresso has been pivotal in enhancing my understanding of software engineering and its application in financial technology. Over the summer, I was responsible for refactoring the user management portal, where I developed 15 new features and optimized 10 existing ones to improve portal speed and user engagement. This role underscored the critical importance of delivering fast, reliable, and intuitive software in financial services, where every millisecond can impact trading and user satisfaction. Additionally, I refactored the user management system to enhance efficiency and scalability, skills that are crucial for handling large datasets and complex transactions in a tech-driven institution like {company_name}. Working directly with sensitive financial data from various companies, I routed APIs to dynamically display data to applications addressing stringent requirements around security, reliability and responsiveness within regulated financial markets, enabling our data science team to manage information accurately.\n",
    "\n",
    "At Admazes, I had the opportunity to contribute significantly as a Software Engineer Intern. During my tenure, I worked on developing and enhancing a Local Large Language Model using LangChain. This project allowed me to improve the model's response accuracy by 25% through better semantic understanding and advanced search capabilities. Additionally, I analyzed datasets using BigQuery, optimizing data retrieval efficiency by 30%. By crafting and executing over 100 complex SQL queries, I was able to generate actionable insights that led to a 20% boost in operational efficiency. This experience reinforced the importance of precise and efficient data processing—skills that are vital in the {industry} world. The {role} position aligns perfectly with my aspiration to merge technology with finance. The prospect of collaborating with passionate individuals from diverse backgrounds, including fellow {industry} enthusiasts and experts from {company_name}, is incredibly motivating. I am excited about the chance to exchange ideas and skills and contribute to projects that can create a lasting positive impact. I am confident that my technical skills, combined with my enthusiasm for innovation and teamwork, make me a strong candidate for the {role} position.\n",
    "\n",
    "Thank you for considering my application. I look forward to the possibility of contributing to {company_name} and making a meaningful difference through technology.\"\"\"\n",
    "    return output\n",
    "\n",
    "def emailLetter(company_name, role):\n",
    "    \"\"\"Generate email content\"\"\"\n",
    "    output = f\"\"\"Dear {company_name} Team,\n",
    "\n",
    "I am currently studying at Hong Kong Baptist University, majoring in Business Computing & Data Analytics, from which I will be graduating in May 2026. It is with great interest that I am applying for the {role} position at {company_name}.\n",
    "\n",
    "I am confident that my technical qualifications and work experiences developing solutions for clients and end users make me an excellent candidate for this internship. I would appreciate the opportunity to discuss how I can help support {company_name}'s needs.\n",
    "\n",
    "Thank you for your consideration.\n",
    "Attached you will find my CV and recommendation letters.\n",
    "\n",
    "Yours sincerely,\n",
    "Felix Lau Pangestu\n",
    "\"\"\"\n",
    "    return output\n",
    "\n",
    "print(\"✅ Template functions loaded successfully!\")"
   ]
  },
  {
   "cell_type": "markdown",
   "id": "ecd817fd",
   "metadata": {},
   "source": [
    "## 3. Input Variables"
   ]
  },
  {
   "cell_type": "code",
   "execution_count": 138,
   "id": "568ecef0",
   "metadata": {},
   "outputs": [
    {
     "name": "stdout",
     "output_type": "stream",
     "text": [
      "📝 Variables configured:\n",
      "Company: Cathay\n",
      "Position: Graduate Trainee\n",
      "Industry: aviation\n",
      "Recipient: chokinghazarddd@gmail.com\n",
      "Subject: Application for Graduate Trainee Position\n"
     ]
    }
   ],
   "source": [
    "# ===== INPUT VARIABLES - MODIFY THESE FOR EACH APPLICATION =====\n",
    "\n",
    "\n",
    "\n",
    "# Company and position details\n",
    "# company_name = input('Enter company name: ')\n",
    "# position = input('Enter position: ')\n",
    "# industry = input('Enter industry: ')\n",
    "# recipient_email = input('Enter recipient email: ')\n",
    "# # Email details\n",
    "# email_subject = f'Application for {position} Position'  # Email subject\n",
    "\n",
    "\n",
    "company_name = 'Cathay'\n",
    "position = 'Graduate Trainee'\n",
    "industry = 'aviation'\n",
    "recipient_email = 'chokinghazarddd@gmail.com'\n",
    "# Email details\n",
    "email_subject = f'Application for {position} Position'  # Email subject\n",
    "\n",
    "# Attachment paths\n",
    "attachment_paths = ['Felix Lau Pangestu_CV.pdf',f'cover_letters\\cover_letter_{company_name}.pdf', 'Transcript_HKBU.pdf', 'Recommendation_Letters.pdf']  # List of file paths to attach\n",
    "\n",
    "print(\"📝 Variables configured:\")\n",
    "print(f\"Company: {company_name}\")\n",
    "print(f\"Position: {position}\")\n",
    "print(f\"Industry: {industry}\")\n",
    "print(f\"Recipient: {recipient_email}\")\n",
    "print(f\"Subject: {email_subject}\")"
   ]
  },
  {
   "cell_type": "markdown",
   "id": "b3c4c84f",
   "metadata": {},
   "source": [
    "## 4. Email Sending Function"
   ]
  },
  {
   "cell_type": "code",
   "execution_count": 139,
   "id": "3cbe648b",
   "metadata": {},
   "outputs": [],
   "source": [
    "def send_email(to_email, subject, body, attachment_path=None):\n",
    "    \"\"\"Send email using Gmail SMTP\"\"\"\n",
    "    try:\n",
    "        # Create message\n",
    "        msg = MIMEMultipart()\n",
    "        msg['From'] = GMAIL_EMAIL\n",
    "        msg['To'] = to_email\n",
    "        msg['Subject'] = subject\n",
    "        \n",
    "        # Add body\n",
    "        msg.attach(MIMEText(body, 'plain'))\n",
    "        \n",
    "        # Initialize attachment path as list if not already\n",
    "        if attachment_path and not isinstance(attachment_path, list):\n",
    "            attachment_path = [attachment_path]\n",
    "        elif not attachment_path:\n",
    "            attachment_path = []\n",
    "\n",
    "        # Add multiple attachments if provided\n",
    "        for single_attachment in attachment_path:\n",
    "            if os.path.exists(single_attachment):\n",
    "                with open(single_attachment, \"rb\") as attachment:\n",
    "                    part = MIMEBase('application', 'octet-stream')\n",
    "                    part.set_payload(attachment.read())\n",
    "                \n",
    "                encoders.encode_base64(part)\n",
    "                part.add_header(\n",
    "                    'Content-Disposition',\n",
    "                    f'attachment; filename= {os.path.basename(single_attachment)}'\n",
    "                )\n",
    "                msg.attach(part)\n",
    "                print(f\"📎 Attachment added: {os.path.basename(single_attachment)}\")\n",
    "            else:\n",
    "                print(f\"⚠️ Attachment not found: {single_attachment}\")\n",
    "        \n",
    "        # Send email\n",
    "        context = ssl.create_default_context()\n",
    "        with smtplib.SMTP(SMTP_SERVER, SMTP_PORT) as server:\n",
    "            server.starttls(context=context)\n",
    "            server.login(GMAIL_EMAIL, GMAIL_PASSWORD)\n",
    "            server.sendmail(GMAIL_EMAIL, to_email, msg.as_string())\n",
    "        \n",
    "        print(f\"✅ Email sent successfully to {to_email}\")\n",
    "        return True\n",
    "        \n",
    "    except Exception as e:\n",
    "        print(f\"❌ Failed to send email: {str(e)}\")\n",
    "        return False"
   ]
  },
  {
   "cell_type": "markdown",
   "id": "130ef753",
   "metadata": {},
   "source": [
    "## 5. PDF Export Function"
   ]
  },
  {
   "cell_type": "code",
   "execution_count": null,
   "id": "c3975789",
   "metadata": {},
   "outputs": [
    {
     "name": "stdout",
     "output_type": "stream",
     "text": [
      "📄 Word document and PDF export functions ready!\n"
     ]
    }
   ],
   "source": [
    "def export_cover_letter_to_word_and_pdf(company_name, role, industry, word_filename=None, pdf_filename=None):\n",
    "    \"\"\"Export cover letter to Word document and PDF with traditional formatting\"\"\"\n",
    "    try:\n",
    "        # Create cover_letters directory if it doesn't exist (only for PDF)\n",
    "        cover_letters_dir = \"cover_letters\"\n",
    "        if not os.path.exists(cover_letters_dir):\n",
    "            os.makedirs(cover_letters_dir)\n",
    "            print(f\"✅ Created directory: {cover_letters_dir}\")\n",
    "        \n",
    "        # Set default filenames if not provided\n",
    "        if word_filename is None:\n",
    "            word_filename = \"Cover_Letter.docx\"  # Save in main directory\n",
    "        if pdf_filename is None:\n",
    "            pdf_filename = f\"cover_letter_{company_name}.pdf\"\n",
    "            \n",
    "        # Create full paths\n",
    "        word_path = word_filename  # Save Word doc in main directory\n",
    "        pdf_path = os.path.join(cover_letters_dir, pdf_filename)  # Save PDF in cover_letters folder\n",
    "        \n",
    "        # Create a new document\n",
    "        doc = Document()\n",
    "        \n",
    "        # Set up document margins (1 inch on all sides)\n",
    "        sections = doc.sections\n",
    "        for section in sections:\n",
    "            section.top_margin = Inches(0.5)\n",
    "            section.bottom_margin = Inches(0.5)\n",
    "            section.left_margin = Inches(1)\n",
    "            section.right_margin = Inches(1)\n",
    "        \n",
    "        # Header with centered name and contact info combined\n",
    "        header = doc.add_paragraph()\n",
    "        header.alignment = WD_ALIGN_PARAGRAPH.CENTER\n",
    "        \n",
    "        # Add name\n",
    "        name_run = header.add_run(FULL_NAME)\n",
    "        name_run.font.name = 'Times New Roman'\n",
    "        name_run.font.size = Pt(16)\n",
    "        name_run.bold = True\n",
    "        \n",
    "        # Add line break and contact info\n",
    "        header.add_run('\\n')\n",
    "        contact_run = header.add_run(f\"{PHONE_NUMBER} | {GMAIL_EMAIL} | {LINKEDIN_URL}\")\n",
    "        contact_run.font.name = 'Times New Roman'\n",
    "        contact_run.font.size = Pt(11)\n",
    "        \n",
    "        # Add simple line using underscores\n",
    "        line_para = doc.add_paragraph()\n",
    "        line_para.alignment = WD_ALIGN_PARAGRAPH.CENTER\n",
    "        line_para.space_before = Pt(6)\n",
    "        line_para.space_after = Pt(12)\n",
    "        line_run = line_para.add_run(\"_\" * 60)\n",
    "        line_run.font.name = 'Times New Roman'\n",
    "        line_run.font.size = Pt(10)\n",
    "        \n",
    "    \n",
    "        # Date\n",
    "        current_date = datetime.now().strftime(\"%B %d, %Y\")\n",
    "        date_para = doc.add_paragraph(current_date)\n",
    "        date_para.alignment = WD_ALIGN_PARAGRAPH.LEFT\n",
    "        \n",
    "        # Recipient information\n",
    "        recipient_para = doc.add_paragraph()\n",
    "        recipient_para.alignment = WD_ALIGN_PARAGRAPH.LEFT\n",
    "        recipient_para.add_run(f\"{company_name}\\n\").bold = True\n",
    "\n",
    "        # Salutation\n",
    "        salutation_para = doc.add_paragraph(\"To Whom it May Concern,\")\n",
    "        salutation_para.alignment = WD_ALIGN_PARAGRAPH.LEFT\n",
    "        \n",
    "        # Get the body content\n",
    "        body_content = coverLetterBody(company_name, role, industry)\n",
    "        \n",
    "        # Split body into paragraphs and add them\n",
    "        paragraphs = body_content.strip().split('\\n\\n')\n",
    "        \n",
    "        for i, paragraph in enumerate(paragraphs):\n",
    "            if paragraph.strip():\n",
    "                # Check if it's the closing paragraph\n",
    "                if paragraph.strip().startswith(\"Thank you for considering\"):\n",
    "                    # Add spacing before closing\n",
    "                    closing_para = doc.add_paragraph(paragraph.strip())\n",
    "                    closing_para.alignment = WD_ALIGN_PARAGRAPH.LEFT\n",
    "                else:\n",
    "                    # Regular body paragraph\n",
    "                    body_para = doc.add_paragraph(paragraph.strip())\n",
    "                    body_para.alignment = WD_ALIGN_PARAGRAPH.JUSTIFY\n",
    "        \n",
    "\n",
    "        # Add closing salutation\n",
    "        closing_salutation = doc.add_paragraph(\"Sincerely,\")\n",
    "        closing_salutation.alignment = WD_ALIGN_PARAGRAPH.LEFT\n",
    "        \n",
    "        # Add signature space\n",
    "        doc.add_paragraph()\n",
    "        doc.add_paragraph()\n",
    "        \n",
    "        # Add signature line\n",
    "        signature_para = doc.add_paragraph(FULL_NAME)\n",
    "        signature_para.alignment = WD_ALIGN_PARAGRAPH.LEFT\n",
    "        \n",
    "        # Save the Word document in main directory\n",
    "        doc.save(word_path)\n",
    "        print(f\"✅ Word document created: {word_path}\")\n",
    "        \n",
    "        # Convert to PDF and save in cover_letters folder if library is available\n",
    "        if PDF_CONVERSION_AVAILABLE:\n",
    "            try:\n",
    "                convert(word_path, pdf_path)\n",
    "                print(f\"✅ PDF document created: {pdf_path}\")\n",
    "                return {'word_path': os.path.abspath(word_path), 'pdf_path': os.path.abspath(pdf_path)}\n",
    "            except Exception as e:\n",
    "                print(f\"⚠️ PDF conversion failed: {str(e)}\")\n",
    "                return {'word_path': os.path.abspath(word_path), 'pdf_path': None}\n",
    "        else:\n",
    "            print(\"⚠️ PDF conversion skipped - docx2pdf not available\")\n",
    "            print(\"   Install with: pip install docx2pdf\")\n",
    "            return {'word_path': os.path.abspath(word_path), 'pdf_path': None}\n",
    "        \n",
    "    except Exception as e:\n",
    "        print(f\"❌ Failed to create documents: {str(e)}\")\n",
    "        return {'word_path': None, 'pdf_path': None}\n",
    "\n",
    "print(\"📄 Word document and PDF export functions ready!\")"
   ]
  },
  {
   "cell_type": "code",
   "execution_count": 141,
   "id": "1652083a",
   "metadata": {},
   "outputs": [
    {
     "name": "stdout",
     "output_type": "stream",
     "text": [
      "✅ Word document created: Cover_Letter.docx\n"
     ]
    },
    {
     "data": {
      "application/vnd.jupyter.widget-view+json": {
       "model_id": "80572acdb1a9459fab4f5a630a8d59bb",
       "version_major": 2,
       "version_minor": 0
      },
      "text/plain": [
       "  0%|          | 0/1 [00:00<?, ?it/s]"
      ]
     },
     "metadata": {},
     "output_type": "display_data"
    },
    {
     "name": "stdout",
     "output_type": "stream",
     "text": [
      "✅ PDF document created: cover_letters\\cover_letter_Cathay.pdf\n",
      "\n",
      "📄 FILES CREATED:\n",
      "✅ Word document: c:\\Users\\j_fel\\Desktop\\jobApplications\\Cover_Letter.docx\n",
      "✅ PDF document: c:\\Users\\j_fel\\Desktop\\jobApplications\\cover_letters\\cover_letter_Cathay.pdf\n"
     ]
    }
   ],
   "source": [
    "# Generate cover letter and export to Word and PDF\n",
    "export_result = export_cover_letter_to_word_and_pdf(company_name, position, industry)\n",
    "\n",
    "# Store paths for later use\n",
    "word_path = export_result['word_path']\n",
    "pdf_path = export_result['pdf_path']\n",
    "\n",
    "print(\"\\n📄 FILES CREATED:\")\n",
    "if word_path:\n",
    "    print(f\"✅ Word document: {word_path}\")\n",
    "if pdf_path:\n",
    "    print(f\"✅ PDF document: {pdf_path}\")\n",
    "else:\n",
    "    print(\"⚠️ PDF not created - install docx2pdf library\")"
   ]
  },
  {
   "cell_type": "markdown",
   "id": "c4aadd17",
   "metadata": {},
   "source": [
    "## 6. Generate Content"
   ]
  },
  {
   "cell_type": "code",
   "execution_count": 142,
   "id": "55ada623",
   "metadata": {},
   "outputs": [
    {
     "name": "stdout",
     "output_type": "stream",
     "text": [
      "\n",
      "📧 EMAIL CONTENT:\n",
      "==================================================\n",
      "Dear Cathay Team,\n",
      "\n",
      "I am currently studying at Hong Kong Baptist University, majoring in Business Computing & Data Analytics, from which I will be graduating in May 2026. It is with great interest that I am applying for the Graduate Trainee position at Cathay.\n",
      "\n",
      "I am confident that my technical qualifications and work experiences developing solutions for clients and end users make me an excellent candidate for this internship. I would appreciate the opportunity to discuss how I can help support Ca...\n",
      "\n",
      "📄 COVER LETTER BODY CONTENT:\n",
      "==================================================\n",
      "I am writing to express my enthusiastic interest in the Graduate Trainee position at Cathay. As a third-year student majoring in Business Computing & Data Analytics at Hong Kong Baptist University, I have developed a robust foundation in both software development and finance, and I am eager to leverage these skills within Cathay's dynamic environment. Your commitment to innovation and leadership in the aviation industry is particularly inspiring, and I am drawn to your dedication to using techno...\n"
     ]
    }
   ],
   "source": [
    "# Generate email content\n",
    "email_content = emailLetter(company_name, position)\n",
    "\n",
    "print(\"\\n📧 EMAIL CONTENT:\")\n",
    "print(\"=\" * 50)\n",
    "print(email_content[:500] + \"...\" if len(email_content) > 500 else email_content)\n",
    "\n",
    "# Generate cover letter body content for preview\n",
    "cover_letter_body = coverLetterBody(company_name, position, industry)\n",
    "\n",
    "print(\"\\n📄 COVER LETTER BODY CONTENT:\")\n",
    "print(\"=\" * 50)\n",
    "print(cover_letter_body[:500] + \"...\" if len(cover_letter_body) > 500 else cover_letter_body)"
   ]
  },
  {
   "cell_type": "markdown",
   "id": "8a2d91e3",
   "metadata": {},
   "source": [
    "## 8. Send Email (Uncomment to Execute)"
   ]
  },
  {
   "cell_type": "code",
   "execution_count": 143,
   "id": "27719c7d",
   "metadata": {},
   "outputs": [
    {
     "name": "stdout",
     "output_type": "stream",
     "text": [
      "📎 Attachment added: Felix Lau Pangestu_CV.pdf\n",
      "📎 Attachment added: cover_letter_Cathay.pdf\n",
      "📎 Attachment added: Transcript_HKBU.pdf\n",
      "📎 Attachment added: Recommendation_Letters.pdf\n",
      "✅ Email sent successfully to chokinghazarddd@gmail.com\n",
      "⚠️  Email sending is commented out for safety.\n",
      "⚠️  Uncomment the send_email line above to actually send the email.\n",
      "\n",
      "📋 SUMMARY:\n",
      "✅ Email content generated using your template\n",
      "✅ Cover letter content generated using your template\n",
      "✅ Word document exported: c:\\Users\\j_fel\\Desktop\\jobApplications\\Cover_Letter.docx\n",
      "✅ PDF document exported: c:\\Users\\j_fel\\Desktop\\jobApplications\\cover_letters\\cover_letter_Cathay.pdf\n",
      "🎯 Ready to send to: chokinghazarddd@gmail.com\n",
      "📧 Subject: Application for Graduate Trainee Position\n",
      "📎 Attachments: Felix Lau Pangestu_CV.pdf, cover_letter_Cathay.pdf, Transcript_HKBU.pdf, Recommendation_Letters.pdf\n",
      "\n",
      "📄 TO USE THIS TOOLKIT:\n",
      "1. Modify the variables in Section 3\n",
      "2. Run all cells\n",
      "3. Uncomment the send_email line above to send\n",
      "4. Install docx2pdf for PDF conversion: pip install docx2pdf\n",
      "\n",
      "✅ All files ready in: c:\\Users\\j_fel\\Desktop\\jobApplications\n",
      "📁 Cover letters saved in: c:\\Users\\j_fel\\Desktop\\jobApplications\\cover_letters\n",
      "✅ Email sent successfully to chokinghazarddd@gmail.com\n",
      "⚠️  Email sending is commented out for safety.\n",
      "⚠️  Uncomment the send_email line above to actually send the email.\n",
      "\n",
      "📋 SUMMARY:\n",
      "✅ Email content generated using your template\n",
      "✅ Cover letter content generated using your template\n",
      "✅ Word document exported: c:\\Users\\j_fel\\Desktop\\jobApplications\\Cover_Letter.docx\n",
      "✅ PDF document exported: c:\\Users\\j_fel\\Desktop\\jobApplications\\cover_letters\\cover_letter_Cathay.pdf\n",
      "🎯 Ready to send to: chokinghazarddd@gmail.com\n",
      "📧 Subject: Application for Graduate Trainee Position\n",
      "📎 Attachments: Felix Lau Pangestu_CV.pdf, cover_letter_Cathay.pdf, Transcript_HKBU.pdf, Recommendation_Letters.pdf\n",
      "\n",
      "📄 TO USE THIS TOOLKIT:\n",
      "1. Modify the variables in Section 3\n",
      "2. Run all cells\n",
      "3. Uncomment the send_email line above to send\n",
      "4. Install docx2pdf for PDF conversion: pip install docx2pdf\n",
      "\n",
      "✅ All files ready in: c:\\Users\\j_fel\\Desktop\\jobApplications\n",
      "📁 Cover letters saved in: c:\\Users\\j_fel\\Desktop\\jobApplications\\cover_letters\n"
     ]
    }
   ],
   "source": [
    "# SEND EMAIL - Uncomment the line below to actually send the email\n",
    "send_email(recipient_email, email_subject, email_content, attachment_paths)\n",
    "\n",
    "print(\"⚠️  Email sending is commented out for safety.\")\n",
    "print(\"⚠️  Uncomment the send_email line above to actually send the email.\")\n",
    "print(\"\\n📋 SUMMARY:\")\n",
    "print(f\"✅ Email content generated using your template\")\n",
    "print(f\"✅ Cover letter content generated using your template\")\n",
    "print(f\"✅ Word document exported: {word_path if word_path else 'Failed'}\")\n",
    "print(f\"✅ PDF document exported: {pdf_path if pdf_path else 'Failed - install docx2pdf'}\")\n",
    "print(f\"🎯 Ready to send to: {recipient_email}\")\n",
    "print(f\"📧 Subject: {email_subject}\")\n",
    "print(f\"📎 Attachments: {', '.join([os.path.basename(path) for path in attachment_paths]) if attachment_paths else 'None'}\")\n",
    "\n",
    "print(\"\\n📄 TO USE THIS TOOLKIT:\")\n",
    "print(\"1. Modify the variables in Section 3\")\n",
    "print(\"2. Run all cells\")\n",
    "print(\"3. Uncomment the send_email line above to send\")\n",
    "print(\"4. Install docx2pdf for PDF conversion: pip install docx2pdf\")\n",
    "\n",
    "print(f\"\\n✅ All files ready in: {os.getcwd()}\")\n",
    "print(f\"📁 Cover letters saved in: {os.path.join(os.getcwd(), 'cover_letters')}\")"
   ]
  },
  {
   "cell_type": "code",
   "execution_count": null,
   "id": "e83b0bcd",
   "metadata": {},
   "outputs": [],
   "source": []
  }
 ],
 "metadata": {
  "kernelspec": {
   "display_name": "job",
   "language": "python",
   "name": "python3"
  },
  "language_info": {
   "codemirror_mode": {
    "name": "ipython",
    "version": 3
   },
   "file_extension": ".py",
   "mimetype": "text/x-python",
   "name": "python",
   "nbconvert_exporter": "python",
   "pygments_lexer": "ipython3",
   "version": "3.10.18"
  }
 },
 "nbformat": 4,
 "nbformat_minor": 5
}
